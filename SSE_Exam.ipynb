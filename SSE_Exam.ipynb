{
  "nbformat": 4,
  "nbformat_minor": 0,
  "metadata": {
    "colab": {
      "provenance": []
    },
    "kernelspec": {
      "name": "python3",
      "display_name": "Python 3"
    },
    "language_info": {
      "name": "python"
    }
  },
  "cells": [
    {
      "cell_type": "code",
      "execution_count": 63,
      "metadata": {
        "colab": {
          "base_uri": "https://localhost:8080/"
        },
        "id": "n7M3XrakSmSh",
        "outputId": "82bb5114-977e-4166-887a-ab51b164cd59"
      },
      "outputs": [
        {
          "output_type": "stream",
          "name": "stdout",
          "text": [
            "accuracy_score [ 64  16 123  86  53  11  82  53  92  93 148   2  34  38  40 127 145  81\n",
            "  67 138  12 127  44 138 106  78 145 145   2  12]\n"
          ]
        },
        {
          "output_type": "stream",
          "name": "stderr",
          "text": [
            "/usr/local/lib/python3.10/dist-packages/sklearn/utils/validation.py:1143: DataConversionWarning: A column-vector y was passed when a 1d array was expected. Please change the shape of y to (n_samples, ), for example using ravel().\n",
            "  y = column_or_1d(y, warn=True)\n"
          ]
        }
      ],
      "source": [
        "\n",
        "# import libraries\n",
        "import pandas as pd\n",
        "from sklearn.model_selection import train_test_split\n",
        "from sklearn import svm\n",
        "from sklearn.metrics import accuracy_score\n",
        "\n",
        "# load the dataset\n",
        "df=pd.read_csv(\"/content/Iris.csv\")\n",
        "df\n",
        "#Exploratory data analysis\n",
        "df.describe()\n",
        "df.isnull().sum()\n",
        "x=df[[\"SepalLengthCm\",\"PetalLengthCm\"]]\n",
        "y=df[[\"Id\"]]\n",
        "#split the data\n",
        "x_train,x_test,y_train,y_test=train_test_split(x,y,test_size=0.2,random_state=42)\n",
        "#create the model\n",
        "model=svm.SVC(kernel=\"linear\")\n",
        "model.fit(x_train,y_train)\n",
        "#predict the model\n",
        "y_pred=model.predict(x_test)\n",
        "print(\"accuracy_score\",y_pred)\n",
        "\n",
        "\n",
        "\n",
        "\n",
        "\n",
        "\n",
        "\n"
      ]
    }
  ]
}